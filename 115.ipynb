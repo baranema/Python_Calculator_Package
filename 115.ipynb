{
  "cells": [
    {
      "cell_type": "markdown",
      "id": "5ea012c3-b1e0-402f-b685-9e3c45275a01",
      "metadata": {
        "id": "5ea012c3-b1e0-402f-b685-9e3c45275a01"
      },
      "source": [
        "## Creating Calculator Package"
      ]
    },
    {
      "cell_type": "markdown",
      "id": "94f8dae3-bab4-46a2-8eba-b2d49ef719fe",
      "metadata": {
        "id": "94f8dae3-bab4-46a2-8eba-b2d49ef719fe"
      },
      "source": [
        "The main package file should contain a class `Calculator` that should be able to perform these actions:  \n",
        "\n",
        "- Addition / Subtraction.\n",
        "- Multiplication / Division.\n",
        "- Take (n) root of a number.\n",
        "- Reset memory (**Calculator must have its own memory, meaning it should manipulate its starting number `0` until it is reset.**).\n",
        "\n",
        "This means that, for example, `calculator` should perform actions with a value inside its memory (for this example, the value inside the calculator's memory is `0`): `calculator.add(2)` results in `2`."
      ]
    },
    {
      "cell_type": "markdown",
      "id": "xND9NxqeuAif",
      "metadata": {
        "id": "xND9NxqeuAif"
      },
      "source": [
        "**Installing Calculator Package**"
      ]
    },
    {
      "cell_type": "code",
      "execution_count": 1,
      "id": "f1JFObMsuWNI",
      "metadata": {
        "colab": {
          "base_uri": "https://localhost:8080/"
        },
        "id": "f1JFObMsuWNI",
        "outputId": "b05160ab-8df0-4168-dfbd-bd4392a965e3"
      },
      "outputs": [
        {
          "name": "stdout",
          "output_type": "stream",
          "text": [
            "Looking in indexes: https://pypi.org/simple, https://us-python.pkg.dev/colab-wheels/public/simple/\n",
            "Collecting calculator-package-emabaran==0.0.1\n",
            "  Downloading calculator_package_emabaran-0.0.1-py3-none-any.whl (3.9 kB)\n",
            "Installing collected packages: calculator-package-emabaran\n",
            "Successfully installed calculator-package-emabaran-0.0.1\n"
          ]
        }
      ],
      "source": [
        "#from https://pypi.org/project/calculator-package-emabaran/0.0.1/\n",
        "!pip install calculator-package-emabaran==0.0.1 "
      ]
    },
    {
      "cell_type": "code",
      "execution_count": 2,
      "id": "9Je4M5hJukko",
      "metadata": {
        "id": "9Je4M5hJukko"
      },
      "outputs": [],
      "source": [
        "from calculator import calculator"
      ]
    },
    {
      "cell_type": "code",
      "execution_count": 3,
      "id": "qlSWnmH3ujDu",
      "metadata": {
        "colab": {
          "base_uri": "https://localhost:8080/"
        },
        "id": "qlSWnmH3ujDu",
        "outputId": "7b2c70f8-0278-4967-d94c-9182466c792e"
      },
      "outputs": [
        {
          "name": "stdout",
          "output_type": "stream",
          "text": [
            "Calculator value after addition is 50\n",
            "Calculator value after subtraction is 20\n",
            "Calculator value after division is 4\n",
            "Calculator value after multiplicity is 16\n",
            "Calculator value after root is 4.0\n",
            "Calculator value was reset to 0\n"
          ]
        }
      ],
      "source": [
        "calculator.reset()\n",
        "calculator.add(50)   \n",
        "print(\"Calculator value after addition is\", calculator.get_current_val())\n",
        "calculator.sub(30)  \n",
        "print(\"Calculator value after subtraction is\", calculator.get_current_val())\n",
        "calculator.div(5) \n",
        "print(\"Calculator value after division is\", calculator.get_current_val())\n",
        "calculator.mul(4)   \n",
        "print(\"Calculator value after multiplicity is\", calculator.get_current_val()) \n",
        "calculator.root(2)\n",
        "print(\"Calculator value after root is\", calculator.get_current_val()) \n",
        "calculator.reset()\n",
        "print(\"Calculator value was reset to\", calculator.get_current_val()) "
      ]
    },
    {
      "cell_type": "code",
      "execution_count": 4,
      "id": "v_eCAhU5vQzs",
      "metadata": {
        "colab": {
          "base_uri": "https://localhost:8080/"
        },
        "id": "v_eCAhU5vQzs",
        "outputId": "ef77f033-9aef-49f2-9cce-761941ac5ea6"
      },
      "outputs": [
        {
          "data": {
            "text/plain": [
              "0"
            ]
          },
          "execution_count": 4,
          "metadata": {},
          "output_type": "execute_result"
        }
      ],
      "source": [
        "calculator.reset()"
      ]
    },
    {
      "cell_type": "code",
      "execution_count": 5,
      "id": "LA-CYrUW0s4U",
      "metadata": {
        "id": "LA-CYrUW0s4U"
      },
      "outputs": [],
      "source": [
        "import calculator"
      ]
    },
    {
      "cell_type": "code",
      "execution_count": 6,
      "id": "akNTcnkZwMfC",
      "metadata": {
        "colab": {
          "base_uri": "https://localhost:8080/"
        },
        "id": "akNTcnkZwMfC",
        "outputId": "81aac276-68ed-46f8-ae2e-26a64deb9c5b"
      },
      "outputs": [
        {
          "name": "stdout",
          "output_type": "stream",
          "text": [
            "/usr/local/lib/python3.7/dist-packages/calculator/__init__.py\n"
          ]
        }
      ],
      "source": [
        "print(calculator.__file__) # retrieve path to the package tests"
      ]
    },
    {
      "cell_type": "code",
      "execution_count": 7,
      "id": "ZCSW-9C-zByS",
      "metadata": {
        "colab": {
          "base_uri": "https://localhost:8080/"
        },
        "id": "ZCSW-9C-zByS",
        "outputId": "ab4c3e0d-5fd0-494a-afea-3d26cd51e626"
      },
      "outputs": [
        {
          "name": "stdout",
          "output_type": "stream",
          "text": [
            "\u001b[1m============================= test session starts ==============================\u001b[0m\n",
            "platform linux -- Python 3.7.13, pytest-3.6.4, py-1.11.0, pluggy-0.7.1\n",
            "rootdir: /usr/local/lib/python3.7/dist-packages/calculator, inifile:\n",
            "plugins: typeguard-2.7.1\n",
            "\u001b[1m\rcollecting 0 items                                                             \u001b[0m\u001b[1m\rcollecting 15 items                                                            \u001b[0m\u001b[1m\rcollected 15 items                                                             \u001b[0m\n",
            "\n",
            "../usr/local/lib/python3.7/dist-packages/calculator/tests.py ...........\u001b[36m [ 73%]\n",
            "\u001b[0m....\u001b[36m                                                                     [100%]\u001b[0m\n",
            "\n",
            "\u001b[32m\u001b[1m========================== 15 passed in 0.06 seconds ===========================\u001b[0m\n"
          ]
        }
      ],
      "source": [
        "!pytest /usr/local/lib/python3.7/dist-packages/calculator/tests.py"
      ]
    }
  ],
  "metadata": {
    "colab": {
      "name": "Copy of Copy of 115.ipynb",
      "provenance": []
    },
    "kernelspec": {
      "display_name": "Python 3",
      "language": "python",
      "name": "python3"
    },
    "language_info": {
      "codemirror_mode": {
        "name": "ipython",
        "version": 3
      },
      "file_extension": ".py",
      "mimetype": "text/x-python",
      "name": "python",
      "nbconvert_exporter": "python",
      "pygments_lexer": "ipython3",
      "version": "3.9.5"
    }
  },
  "nbformat": 4,
  "nbformat_minor": 5
}
